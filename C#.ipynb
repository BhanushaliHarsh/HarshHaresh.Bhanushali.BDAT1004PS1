{
 "cells": [
  {
   "cell_type": "markdown",
   "id": "37d135db",
   "metadata": {},
   "source": [
    "5\n",
    "5.0\n",
    "5 > 1\n",
    "'5'\n",
    "5 * 2\n",
    "'5' * 2\n",
    "'5' + '2'\n",
    "5 / 2\n",
    "5 % 2\n",
    "{5, 2, 1}\n",
    "5 == 3\n",
    "Pi (the number)"
   ]
  },
  {
   "cell_type": "markdown",
   "id": "ded46e9b",
   "metadata": {},
   "source": [
    "Integer\n",
    "Float\n",
    "Boolean\n",
    "Character\n",
    "Integer\n",
    "Invalid\n",
    "String\n",
    "Float\n",
    "Integer\n",
    "Enumetrated\n",
    "Invalid\n",
    "Double"
   ]
  },
  {
   "cell_type": "code",
   "execution_count": 2,
   "id": "69ad3436",
   "metadata": {},
   "outputs": [
    {
     "name": "stdout",
     "output_type": "stream",
     "text": [
      "Supercalifragilisticexpialidocious\r\n"
     ]
    }
   ],
   "source": [
    "// Qusetion 2\n",
    "string s = (\"Supercalifragilisticexpialidocious\");\n",
    "\n",
    "Console.WriteLine(s);\n"
   ]
  },
  {
   "cell_type": "code",
   "execution_count": 3,
   "id": "bc26f795",
   "metadata": {},
   "outputs": [
    {
     "ename": "Unhandled Exception",
     "evalue": "(38,1): error CS7017: Member definition, statement, or end-of-file expected\r\n(39,1): error CS7017: Member definition, statement, or end-of-file expected",
     "output_type": "error",
     "traceback": [
      "(38,1): error CS7017: Member definition, statement, or end-of-file expected\r\n(39,1): error CS7017: Member definition, statement, or end-of-file expected"
     ]
    }
   ],
   "source": [
    "// Question 4\n",
    "\n",
    "int[] arr1 = new int[10];\n",
    "int[] arr2 = new int[10];\n",
    "int[] arr3 = new int[10];\n",
    "int i,j=0,k=0,n;\n",
    "Console.Write(\"\\n\\nSeparate odd and even integers in separate arrays:\\n\");\n",
    "Console.Write(\"Input the number of elements to be stored in the array :\");\n",
    "n = Convert.ToInt32(Console.ReadLine());   \n",
    "Console.Write(\"Input {0} elements in the array :\\n\",n);\n",
    "for(i=0;i<n;i++)\n",
    "{\n",
    "Console.Write(\"element - {0} : \",i);\n",
    "arr1[i] = Convert.ToInt32(Console.ReadLine()); \n",
    "}\n",
    "for(i=0;i<n;i++)\n",
    "{\n",
    "if (arr1[i]%2 == 0)\n",
    "{\n",
    "arr2[j] = arr1[i];\n",
    "j++;\n",
    "}\n",
    "else\n",
    "{\n",
    "arr3[k] = arr1[i];\n",
    "k++;\n",
    "}\n",
    "}\n",
    "Console.Write(\"\\nThe Even elements are : \\n\");\n",
    "for(i=0;i<j;i++)\n",
    "{\n",
    "Console.Write(\"{0} \",arr2[i]);\n",
    "}\n",
    "Console.Write(\"\\nThe Odd elements are :\\n\");\n",
    "for(i=0;i<k;i++)\n",
    "{\n",
    "Console.Write(\"{0} \", arr3[i]);\n",
    "}\n",
    "Console.Write(\"\\n\\n\");\n",
    "} \n"
   ]
  },
  {
   "cell_type": "code",
   "execution_count": null,
   "id": "782ab105",
   "metadata": {},
   "outputs": [],
   "source": []
  }
 ],
 "metadata": {
  "kernelspec": {
   "display_name": ".NET (C#)",
   "language": "C#",
   "name": ".net-csharp"
  },
  "language_info": {
   "file_extension": ".cs",
   "mimetype": "text/x-csharp",
   "name": "C#",
   "pygments_lexer": "csharp",
   "version": "8.0"
  }
 },
 "nbformat": 4,
 "nbformat_minor": 5
}
