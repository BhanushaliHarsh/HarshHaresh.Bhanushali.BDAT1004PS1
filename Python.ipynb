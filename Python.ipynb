{
 "cells": [
  {
   "cell_type": "code",
   "execution_count": 12,
   "id": "bea9599c",
   "metadata": {},
   "outputs": [
    {
     "ename": "SyntaxError",
     "evalue": "invalid syntax (<ipython-input-12-3f20047a6548>, line 13)",
     "output_type": "error",
     "traceback": [
      "\u001b[1;36m  File \u001b[1;32m\"<ipython-input-12-3f20047a6548>\"\u001b[1;36m, line \u001b[1;32m13\u001b[0m\n\u001b[1;33m    firstMatch = str.match(/[aeiou]/g) || 0;\u001b[0m\n\u001b[1;37m                           ^\u001b[0m\n\u001b[1;31mSyntaxError\u001b[0m\u001b[1;31m:\u001b[0m invalid syntax\n"
     ]
    }
   ],
   "source": [
    "# Question 6\n",
    "\n",
    "def translatePigLatin(str):\n",
    "\n",
    "    vowels = ['a', 'e', 'i', 'o', 'u'];\n",
    "    newStr = \"\";\n",
    "\n",
    "    if (vowels.indexOf(str[0]) > -1):\n",
    "    \n",
    "        newStr = str + \"way\";\n",
    "        return newStr;\n",
    "     \n",
    "    else:\n",
    "    \n",
    "        firstMatch = str.match(/[aeiou]/g) || 0;\n",
    "        vowel = str.indexOf(firstMatch[0]);\n",
    "        newStr = str.substring(vowel) + str.substring(0, vowel) + \"ay\";\n",
    "        return newStr;\n",
    "    "
   ]
  },
  {
   "cell_type": "code",
   "execution_count": null,
   "id": "a8b2a9bc",
   "metadata": {},
   "outputs": [],
   "source": []
  }
 ],
 "metadata": {
  "kernelspec": {
   "display_name": "Python 3",
   "language": "python",
   "name": "python3"
  },
  "language_info": {
   "codemirror_mode": {
    "name": "ipython",
    "version": 3
   },
   "file_extension": ".py",
   "mimetype": "text/x-python",
   "name": "python",
   "nbconvert_exporter": "python",
   "pygments_lexer": "ipython3",
   "version": "3.8.8"
  }
 },
 "nbformat": 4,
 "nbformat_minor": 5
}
